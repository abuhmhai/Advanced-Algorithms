{
 "cells": [
  {
   "metadata": {},
   "cell_type": "markdown",
   "source": "# Ungraded Lab: Decision Trees",
   "id": "88e700fd6c0470b7"
  },
  {
   "metadata": {},
   "cell_type": "markdown",
   "source": [
    "In this notebook you will visualize how a decision tree is splitted using information gain.\n",
    "\n",
    "We will revisit the dataset used in the video lectures. The dataset is:"
   ],
   "id": "bed117976c30f3f1"
  },
  {
   "metadata": {},
   "cell_type": "markdown",
   "source": [
    "As you saw in the lectures, in a decision tree, we decide if a node will be split or not by looking at the **information gain** that split would give us. (Image of video IG)\n",
    "\n",
    "Where\n",
    "\n",
    "$$\\text{Information Gain} = H(p_1^\\text{node})- \\left(w^{\\text{left}}H\\left(p_1^\\text{left}\\right) + w^{\\text{right}}H\\left(p_1^\\text{right}\\right)\\right),$$\n",
    "\n",
    "and $H$ is the entropy, defined as\n",
    "\n",
    "$$H(p_1) = -p_1 \\text{log}_2(p_1) - (1- p_1) \\text{log}_2(1- p_1)$$\n",
    "\n",
    "Remember that log here is defined to be in base 2. Run the code block below to see by yourself how the entropy. $H(p)$ behaves while $p$ varies.\n",
    "\n",
    "Note that the H attains its higher value when $p = 0.5$. This means that the probability of event is $0.5$. And its minimum value is attained in $p = 0$ and $p = 1$, i.e., the probability of the event happening is totally predictable. Thus, the entropy shows the degree of predictability of an event."
   ],
   "id": "2b870fa3700f4d35"
  },
  {
   "metadata": {
    "ExecuteTime": {
     "end_time": "2024-07-17T12:44:49.097147Z",
     "start_time": "2024-07-17T12:44:49.092036Z"
    }
   },
   "cell_type": "code",
   "source": [
    "import pandas as pd\n",
    "import numpy as np\n",
    "import matplotlib.pyplot as plt\n",
    "from utils import *"
   ],
   "id": "e2632049d0e5c071",
   "outputs": [],
   "execution_count": 54
  },
  {
   "metadata": {},
   "cell_type": "markdown",
   "source": [
    "|                                                     |   Ear Shape | Face Shape | Whiskers |   Cat  |\n",
    "|:---------------------------------------------------:|:---------:|:-----------:|:---------:|:------:|\n",
    "| <img src=\"images/0.png\" alt=\"drawing\" width=\"50\"/> |   Pointy   |   Round     |  Present  |    1   |\n",
    "| <img src=\"images/1.png\" alt=\"drawing\" width=\"50\"/> |   Floppy   |  Not Round  |  Present  |    1   |\n",
    "| <img src=\"images/2.png\" alt=\"drawing\" width=\"50\"/> |   Floppy   |  Round      |  Absent   |    0   |\n",
    "| <img src=\"images/3.png\" alt=\"drawing\" width=\"50\"/> |   Pointy   |  Not Round  |  Present  |    0   |\n",
    "| <img src=\"images/4.png\" alt=\"drawing\" width=\"50\"/> |   Pointy   |   Round     |  Present  |    1   |\n",
    "| <img src=\"images/5.png\" alt=\"drawing\" width=\"50\"/> |   Pointy   |   Round     |  Absent   |    1   |\n",
    "| <img src=\"images/6.png\" alt=\"drawing\" width=\"50\"/> |   Floppy   |  Not Round  |  Absent   |    0   |\n",
    "| <img src=\"images/7.png\" alt=\"drawing\" width=\"50\"/> |   Pointy   |  Round      |  Absent   |    1   |\n",
    "| <img src=\"images/8.png\" alt=\"drawing\" width=\"50\"/> |    Floppy  |   Round     |  Absent   |    0   |\n",
    "| <img src=\"images/9.png\" alt=\"drawing\" width=\"50\"/> |   Floppy   |  Round      |  Absent   |    0   |\n",
    "\n",
    "\n",
    "We will use **one-hot encoding** to encode the categorical features. They will be as follows:\n",
    "\n",
    "- Ear Shape: Pointy = 1, Floppy = 0\n",
    "- Face Shape: Round = 1, Not Round = 0\n",
    "- Whiskers: Present = 1, Absent = 0\n",
    "\n",
    "Therefore, we have two sets:\n",
    "\n",
    "- `X_train`: for each example, contains 3 features:\n",
    "    - Ear Shape (1 if pointy, 0 otherwise)\n",
    "    - Face Shape (1 if round, 0 otherwise)\n",
    "    - Whiskers (1 if present, 0 otherwise)\n",
    "\n",
    "    - `y_train`: whether the animal is a cat\n",
    "    - 1 if the animal is a cat\n",
    "    - 0 otherwise"
   ],
   "id": "4117cbdeb85203ed"
  },
  {
   "metadata": {
    "ExecuteTime": {
     "end_time": "2024-07-17T12:44:49.193806Z",
     "start_time": "2024-07-17T12:44:49.193633Z"
    }
   },
   "cell_type": "code",
   "source": [
    "X_train = np.array([[1, 1, 1],\n",
    "                    [0, 0, 1],\n",
    "                    [0, 1, 0],\n",
    "                    [1, 0, 1],\n",
    "                    [1, 1, 1],\n",
    "                    [1, 1, 0],\n",
    "                    [0, 0, 0],\n",
    "                    [1, 1, 0],\n",
    "                    [0, 1, 0],\n",
    "                    [0, 1, 0]])\n",
    "\n",
    "y_train = np.array([1, 1, 0, 0, 1, 1, 0, 1, 0, 0])"
   ],
   "id": "b597b1b66ae05748",
   "outputs": [],
   "execution_count": null
  },
  {
   "metadata": {
    "ExecuteTime": {
     "end_time": "2024-07-17T12:44:49.194836Z",
     "start_time": "2024-07-17T12:44:49.194743Z"
    }
   },
   "cell_type": "code",
   "source": [
    "# For instance the first example\n",
    "X_train[0]"
   ],
   "id": "ac1da2ddee9ea0dc",
   "outputs": [],
   "execution_count": null
  },
  {
   "metadata": {},
   "cell_type": "markdown",
   "source": "This means that the first example has a pointy ear shape, round face shape and it has whiskers.",
   "id": "5a68d7e4ce11ea3d"
  },
  {
   "metadata": {},
   "cell_type": "markdown",
   "source": "On each node, we compute the information gain for each feature, then split the node on the feature with the higher information gain, by comparing the entropy of the node with the weighted entropy in the two splitted nodes. ",
   "id": "d7d516b7c7223ad1"
  },
  {
   "metadata": {},
   "cell_type": "markdown",
   "source": [
    "So, the root node has every animal in our dataset. Remember that $p_1^{node}$ is the proportion of positive class (cats) in the root node. So\n",
    "\n",
    "$$p_1^{node} = \\frac{5}{10} = 0.5$$\n",
    "\n",
    "Now let's write a function to compute the entropy."
   ],
   "id": "46ea349adedff67"
  },
  {
   "metadata": {},
   "cell_type": "code",
   "source": [
    "def entropy(p):\n",
    "    if p==0 or p == 1:\n",
    "        return 0\n",
    "    else:\n",
    "        return -p * np.log2(p) - (1- p)*np.log2(1 - p)\n",
    "print(entropy(0.5))"
   ],
   "id": "15999674fae854ee",
   "outputs": [],
   "execution_count": null
  },
  {
   "metadata": {},
   "cell_type": "markdown",
   "source": "To illustrate, let's compute the information gain if we split the node for each of the features. To do this, let's write some functions.",
   "id": "169e982bf72d2005"
  },
  {
   "metadata": {},
   "cell_type": "code",
   "source": [
    "def split_indices(X, index_features):\n",
    "    \"\"\"Given a dataset and a index feature, return two lists for the two split nodes, the left node has the animals that have \n",
    "    that feature = 1 and the right node those that have the feature = 0 \n",
    "    index feature = 0 => ear shape\n",
    "    index feature = 1 => face shape\n",
    "    index feature = 2 => whiskers\n",
    "    \"\"\"\n",
    "    left_indices = []\n",
    "    right_indices = []\n",
    "    for i,x in enumerate(X):\n",
    "        if x[index_features] == 1:\n",
    "            left_indices.append(i)\n",
    "        else:\n",
    "            right_indices.append(i)\n",
    "    return left_indices, right_indices\n",
    "        \n",
    "        "
   ],
   "id": "b20b04a9b492823b",
   "outputs": [],
   "execution_count": null
  },
  {
   "metadata": {},
   "cell_type": "markdown",
   "source": [
    "So, if we choose Ear Shape to split, then we must have in the left node (check the table above) the indices:\n",
    "\n",
    "$$0 \\quad 3 \\quad 4 \\quad 5 \\quad 7$$\n",
    "\n",
    "and the right indices, the remaining ones."
   ],
   "id": "e6ee7ff27e7183bd"
  },
  {
   "metadata": {
    "ExecuteTime": {
     "end_time": "2024-07-17T12:44:49.216942Z",
     "start_time": "2024-07-17T12:44:49.212040Z"
    }
   },
   "cell_type": "code",
   "source": "split_indices(X_train,0)",
   "id": "7b89a501bbc2a1fa",
   "outputs": [
    {
     "data": {
      "text/plain": [
       "([0, 3, 4, 5, 7], [1, 2, 6, 8, 9])"
      ]
     },
     "execution_count": 56,
     "metadata": {},
     "output_type": "execute_result"
    }
   ],
   "execution_count": 56
  },
  {
   "metadata": {},
   "cell_type": "markdown",
   "source": [
    "Now we need another function to compute the weighted entropy in the splitted nodes. As you've seen in the video lecture, we must find:\n",
    "\n",
    "- $w^{\\text{left}}$ and $w^{\\text{right}}$, the proportion of animals in **each node**.\n",
    "- $p^{\\text{left}}$ and $p^{\\text{right}}$, the proportion of cats in **each split**.\n",
    "\n",
    "Note the difference between these two definitions!! To illustrate, if we split the root node on the feature of index 0 (Ear Shape), then in the left node, the one that has the animals 0, 3, 4, 5 and 7, we have:\n",
    "\n",
    "$$w^{\\text{left}}= \\frac{5}{10} = 0.5 \\text{ and } p^{\\text{left}} = \\frac{4}{5}$$\n",
    "$$w^{\\text{right}}= \\frac{5}{10} = 0.5 \\text{ and } p^{\\text{right}} = \\frac{1}{5}$$"
   ],
   "id": "58a3900d8ebe4733"
  },
  {
   "metadata": {
    "ExecuteTime": {
     "end_time": "2024-07-17T12:44:49.220363Z",
     "start_time": "2024-07-17T12:44:49.217937Z"
    }
   },
   "cell_type": "code",
   "source": [
    "def weighted_entropy(X,y,left_indices,right_indices):\n",
    "    w_left = len(left_indices)/len(X)\n",
    "    w_right = len(right_indices)/len(X)\n",
    "    p_left = sum(y[left_indices])/len(left_indices)\n",
    "    p_right = sum(y[right_indices])/len(right_indices)\n",
    "    weighted_entropy=w_left*entropy(p_left)+w_right*entropy(p_right)\n",
    "    return weighted_entropy"
   ],
   "id": "66b1b2d0e089726e",
   "outputs": [],
   "execution_count": 57
  },
  {
   "metadata": {
    "ExecuteTime": {
     "end_time": "2024-07-17T12:44:49.238639Z",
     "start_time": "2024-07-17T12:44:49.234337Z"
    }
   },
   "cell_type": "code",
   "source": [
    "left_indices, right_indices = split_indices(X_train,0)\n",
    "weighted_entropy(X_train,y_train,left_indices,right_indices)"
   ],
   "id": "48fb51620801134a",
   "outputs": [
    {
     "data": {
      "text/plain": [
       "0.7219280948873623"
      ]
     },
     "execution_count": 58,
     "metadata": {},
     "output_type": "execute_result"
    }
   ],
   "execution_count": 58
  },
  {
   "metadata": {},
   "cell_type": "markdown",
   "source": "So, the weighted entropy in the 2 split nodes is 0.72. To compute the **Information Gain** we must subtract it from the entropy in the node we chose to split (in this case, the root node). ",
   "id": "c38e1ab4d2e86cac"
  },
  {
   "metadata": {
    "ExecuteTime": {
     "end_time": "2024-07-17T12:44:49.270087Z",
     "start_time": "2024-07-17T12:44:49.267184Z"
    }
   },
   "cell_type": "code",
   "source": [
    "def information_gain(X,y,left_indices,right_indices):\n",
    "    \"\"\"\n",
    "    Here, X has the elements in the node and y is theirs respectives classes\n",
    "    \"\"\"\n",
    "    p_node=sum(y)/len(y)\n",
    "    h_node=entropy(p_node)\n",
    "    w_entropy=weighted_entropy(X,y,left_indices,right_indices)\n",
    "    return h_node-w_entropy"
   ],
   "id": "972774c430667c9",
   "outputs": [],
   "execution_count": 59
  },
  {
   "metadata": {
    "ExecuteTime": {
     "end_time": "2024-07-17T12:44:49.294189Z",
     "start_time": "2024-07-17T12:44:49.290163Z"
    }
   },
   "cell_type": "code",
   "source": "information_gain(X_train,y_train,left_indices,right_indices)",
   "id": "8fe0daa818d57bfd",
   "outputs": [
    {
     "data": {
      "text/plain": [
       "0.2780719051126377"
      ]
     },
     "execution_count": 60,
     "metadata": {},
     "output_type": "execute_result"
    }
   ],
   "execution_count": 60
  },
  {
   "metadata": {},
   "cell_type": "markdown",
   "source": "Now, let's compute the information gain if we split the root node for each feature:",
   "id": "6c38d14333ff5049"
  },
  {
   "metadata": {
    "ExecuteTime": {
     "end_time": "2024-07-17T12:44:49.315620Z",
     "start_time": "2024-07-17T12:44:49.312320Z"
    }
   },
   "cell_type": "code",
   "source": [
    "for i, feature_name in enumerate(['Ear shape','Face shape','Whiskers']):\n",
    "    left_indices, right_indices = split_indices(X_train,i)\n",
    "    i_gain = information_gain(X_train,y_train,left_indices,right_indices)\n",
    "    print(f\"Feature: {feature_name}, information gain if we split the root node using this feature: {i_gain:.2f}\")\n"
   ],
   "id": "f8d03ffea4ce30a",
   "outputs": [
    {
     "name": "stdout",
     "output_type": "stream",
     "text": [
      "Feature: Ear shape, information gain if we split the root node using this feature: 0.28\n",
      "Feature: Face shape, information gain if we split the root node using this feature: 0.03\n",
      "Feature: Whiskers, information gain if we split the root node using this feature: 0.12\n"
     ]
    }
   ],
   "execution_count": 61
  },
  {
   "metadata": {},
   "cell_type": "markdown",
   "source": "So, the best feature to split is indeed the Ear Shape. Run the code below to see the split in action. You do not need to understand the following code block. ",
   "id": "8cf459eeb5786559"
  },
  {
   "metadata": {
    "ExecuteTime": {
     "end_time": "2024-07-17T12:49:08.982038Z",
     "start_time": "2024-07-17T12:49:08.959898Z"
    }
   },
   "cell_type": "code",
   "source": [
    "def build_tree_recursive(X, y, node_indices, branch_name, max_depth, current_depth, tree):\n",
    "\n",
    "    if current_depth == max_depth:\n",
    "        formatting = \" \"*current_depth + \"-\"*current_depth\n",
    "        print(formatting, \"%s leaf node with indices\" % branch_name, node_indices)\n",
    "        return\n",
    "\n",
    "\n",
    "    best_feature = get_best_split(X, y, node_indices)\n",
    "\n",
    "    formatting = \"-\"*current_depth\n",
    "    print(\"%s Depth %d, %s: Split on feature: %d\" % (formatting, current_depth, branch_name, best_feature))\n",
    "\n",
    "\n",
    "    left_indices, right_indices = split_dataset(X, node_indices, best_feature)\n",
    "    tree.append((left_indices, right_indices, best_feature))\n",
    "\n",
    "    build_tree_recursive(X, y, left_indices, \"Left\", max_depth, current_depth+1, tree)\n",
    "    build_tree_recursive(X, y, right_indices, \"Right\", max_depth, current_depth+1, tree)\n",
    "    return tree\n",
    "def generate_tree_viz(root_indices, y, tree):\n",
    "\n",
    "    G=nx.DiGraph()\n",
    "\n",
    "\n",
    "    G.add_node(0,image= generate_node_image(root_indices))\n",
    "    idx = 1\n",
    "    root = 0\n",
    "\n",
    "    num_images = [len(root_indices)]\n",
    "\n",
    "    feature_name = [\"Ear Shape\", \"Face Shape\", \"Whiskers\"]\n",
    "    y_name = [\"Non Cat\",\"Cat\"]\n",
    "\n",
    "    decision_names = []\n",
    "    leaf_names = []\n",
    "\n",
    "    for i, level in enumerate(tree):\n",
    "        indices_list = level[:2]\n",
    "        for indices in indices_list:\n",
    "            G.add_node(idx,image= generate_node_image(indices))\n",
    "            G.add_edge(root, idx)\n",
    "\n",
    "            # For visualization\n",
    "            num_images.append(len(indices))\n",
    "            idx += 1\n",
    "            if i > 0:\n",
    "                leaf_names.append(\"Leaf node: %s\" % y_name[max(y[indices])])\n",
    "\n",
    "        decision_names.append(\"Split on: %s\" % feature_name[level[2]])\n",
    "        root += 1\n",
    "\n",
    "\n",
    "    node_names = decision_names + leaf_names\n",
    "    pos = graphviz_layout(G, prog=\"dot\")\n",
    "\n",
    "    fig=plt.figure(figsize=(14, 10))\n",
    "    ax=plt.subplot(111)\n",
    "    ax.set_aspect('equal')\n",
    "    nx.draw_networkx_edges(G,pos,ax=ax, arrows=True, arrowsize=40)\n",
    "\n",
    "    trans=ax.transData.transform\n",
    "    trans2=fig.transFigure.inverted().transform\n",
    "\n",
    "    for idx, n in enumerate(G):\n",
    "        xx,yy=trans(pos[n]) # figure coordinates\n",
    "        xa,ya=trans2((xx,yy)) # axes coordinates\n",
    "        piesize = num_images[idx]/25\n",
    "        p2=piesize/2.0\n",
    "        a = plt.axes([xa-p2,ya-p2, piesize, piesize])\n",
    "        a.set_aspect('equal')\n",
    "        a.imshow(G.nodes[n]['image'])\n",
    "        a.axis('off')\n",
    "        try:\n",
    "            a.set_title(node_names[idx], y=-0.8, fontsize=13, loc=\"left\")\n",
    "        except:\n",
    "            pass\n",
    "    ax.axis('off')\n",
    "    plt.show()\n",
    "def get_best_split(X, y, node_indices):\n",
    "    num_features = X.shape[1]\n",
    "\n",
    "    best_feature = -1\n",
    "\n",
    "    max_info_gain = 0\n",
    "    for feature in range(num_features):\n",
    "        info_gain = compute_information_gain(X, y, node_indices, feature)\n",
    "        if info_gain > max_info_gain:\n",
    "            max_info_gain = info_gain\n",
    "            best_feature = feature\n",
    "\n",
    "\n",
    "    return best_feature\n",
    "def compute_information_gain(X, y, node_indices, feature):\n",
    "\n",
    "    left_indices, right_indices = split_dataset(X, node_indices, feature)\n",
    "\n",
    "    X_node, y_node = X[node_indices], y[node_indices]\n",
    "    X_left, y_left = X[left_indices], y[left_indices]\n",
    "    X_right, y_right = X[right_indices], y[right_indices]\n",
    "\n",
    "    information_gain = 0\n",
    "\n",
    "    node_entropy = compute_entropy(y_node)\n",
    "    left_entropy = compute_entropy(y_left)\n",
    "    right_entropy = compute_entropy(y_right)\n",
    "    w_left = len(X_left) / len(X_node)\n",
    "    w_right = len(X_right) / len(X_node)\n",
    "    weighted_entropy = w_left * left_entropy + w_right * right_entropy\n",
    "    information_gain = node_entropy - weighted_entropy\n",
    "\n",
    "    return information_gain\n",
    "def split_dataset(X, node_indices, feature):\n",
    "\n",
    "    left_indices = []\n",
    "    right_indices = []\n",
    "\n",
    "    for i in node_indices:\n",
    "        if X[i][feature] == 1:\n",
    "            left_indices.append(i)\n",
    "        else:\n",
    "            right_indices.append(i)\n",
    "\n",
    "    return left_indices, right_indices\n",
    "def compute_entropy(y):\n",
    "\n",
    "    entropy = 0\n",
    "\n",
    "    if len(y) == 0:\n",
    "        return 0\n",
    "    entropy = sum(y[y==1])/len(y)\n",
    "    if entropy == 0 or entropy == 1:\n",
    "        return 0\n",
    "    else:\n",
    "        return -entropy*np.log2(entropy) - (1-entropy)*np.log2(1-entropy)\n"
   ],
   "id": "96c2ef31446575b0",
   "outputs": [],
   "execution_count": 66
  },
  {
   "metadata": {
    "ExecuteTime": {
     "end_time": "2024-07-17T12:49:09.906546Z",
     "start_time": "2024-07-17T12:49:09.781186Z"
    }
   },
   "cell_type": "code",
   "source": [
    "tree=[]\n",
    "build_tree_recursive(X_train, y_train, [0,1,2,3,4,5,6,7,8,9], \"Root\", max_depth=1, current_depth=0, tree = tree)\n",
    "generate_tree_viz([0,1,2,3,4,5,6,7,8,9], y_train, tree)"
   ],
   "id": "3c0a0a2db62f9bee",
   "outputs": [
    {
     "name": "stdout",
     "output_type": "stream",
     "text": [
      " Depth 0, Root: Split on feature: 0\n",
      " - Left leaf node with indices [0, 3, 4, 5, 7]\n",
      " - Right leaf node with indices [1, 2, 6, 8, 9]\n"
     ]
    },
    {
     "ename": "NameError",
     "evalue": "name 'nx' is not defined",
     "output_type": "error",
     "traceback": [
      "\u001B[0;31m---------------------------------------------------------------------------\u001B[0m",
      "\u001B[0;31mNameError\u001B[0m                                 Traceback (most recent call last)",
      "Cell \u001B[0;32mIn[67], line 3\u001B[0m\n\u001B[1;32m      1\u001B[0m tree\u001B[38;5;241m=\u001B[39m[]\n\u001B[1;32m      2\u001B[0m build_tree_recursive(X_train, y_train, [\u001B[38;5;241m0\u001B[39m,\u001B[38;5;241m1\u001B[39m,\u001B[38;5;241m2\u001B[39m,\u001B[38;5;241m3\u001B[39m,\u001B[38;5;241m4\u001B[39m,\u001B[38;5;241m5\u001B[39m,\u001B[38;5;241m6\u001B[39m,\u001B[38;5;241m7\u001B[39m,\u001B[38;5;241m8\u001B[39m,\u001B[38;5;241m9\u001B[39m], \u001B[38;5;124m\"\u001B[39m\u001B[38;5;124mRoot\u001B[39m\u001B[38;5;124m\"\u001B[39m, max_depth\u001B[38;5;241m=\u001B[39m\u001B[38;5;241m1\u001B[39m, current_depth\u001B[38;5;241m=\u001B[39m\u001B[38;5;241m0\u001B[39m, tree \u001B[38;5;241m=\u001B[39m tree)\n\u001B[0;32m----> 3\u001B[0m \u001B[43mgenerate_tree_viz\u001B[49m\u001B[43m(\u001B[49m\u001B[43m[\u001B[49m\u001B[38;5;241;43m0\u001B[39;49m\u001B[43m,\u001B[49m\u001B[38;5;241;43m1\u001B[39;49m\u001B[43m,\u001B[49m\u001B[38;5;241;43m2\u001B[39;49m\u001B[43m,\u001B[49m\u001B[38;5;241;43m3\u001B[39;49m\u001B[43m,\u001B[49m\u001B[38;5;241;43m4\u001B[39;49m\u001B[43m,\u001B[49m\u001B[38;5;241;43m5\u001B[39;49m\u001B[43m,\u001B[49m\u001B[38;5;241;43m6\u001B[39;49m\u001B[43m,\u001B[49m\u001B[38;5;241;43m7\u001B[39;49m\u001B[43m,\u001B[49m\u001B[38;5;241;43m8\u001B[39;49m\u001B[43m,\u001B[49m\u001B[38;5;241;43m9\u001B[39;49m\u001B[43m]\u001B[49m\u001B[43m,\u001B[49m\u001B[43m \u001B[49m\u001B[43my_train\u001B[49m\u001B[43m,\u001B[49m\u001B[43m \u001B[49m\u001B[43mtree\u001B[49m\u001B[43m)\u001B[49m\n",
      "Cell \u001B[0;32mIn[66], line 23\u001B[0m, in \u001B[0;36mgenerate_tree_viz\u001B[0;34m(root_indices, y, tree)\u001B[0m\n\u001B[1;32m     21\u001B[0m \u001B[38;5;28;01mdef\u001B[39;00m \u001B[38;5;21mgenerate_tree_viz\u001B[39m(root_indices, y, tree):\n\u001B[0;32m---> 23\u001B[0m     G\u001B[38;5;241m=\u001B[39m\u001B[43mnx\u001B[49m\u001B[38;5;241m.\u001B[39mDiGraph()\n\u001B[1;32m     26\u001B[0m     G\u001B[38;5;241m.\u001B[39madd_node(\u001B[38;5;241m0\u001B[39m,image\u001B[38;5;241m=\u001B[39m generate_node_image(root_indices))\n\u001B[1;32m     27\u001B[0m     idx \u001B[38;5;241m=\u001B[39m \u001B[38;5;241m1\u001B[39m\n",
      "\u001B[0;31mNameError\u001B[0m: name 'nx' is not defined"
     ]
    }
   ],
   "execution_count": 67
  },
  {
   "metadata": {},
   "cell_type": "code",
   "source": "",
   "id": "4408e403948dc9c7",
   "outputs": [],
   "execution_count": null
  }
 ],
 "metadata": {
  "kernelspec": {
   "display_name": "Python 3",
   "language": "python",
   "name": "python3"
  },
  "language_info": {
   "codemirror_mode": {
    "name": "ipython",
    "version": 2
   },
   "file_extension": ".py",
   "mimetype": "text/x-python",
   "name": "python",
   "nbconvert_exporter": "python",
   "pygments_lexer": "ipython2",
   "version": "2.7.6"
  }
 },
 "nbformat": 4,
 "nbformat_minor": 5
}
