{
 "cells": [
  {
   "metadata": {},
   "cell_type": "markdown",
   "source": [
    "# Simple Neural Network as well\n",
    "In this lab we will build a small neural network using Tensorflow.\n",
    "<center> <img  src=\"./images/C2_W1_CoffeeRoasting.png\" width=\"500\" />   <center/>\n"
   ],
   "id": "1a84bc9534e4ae53"
  },
  {
   "metadata": {
    "ExecuteTime": {
     "end_time": "2024-06-13T11:15:00.285272Z",
     "start_time": "2024-06-13T11:15:00.278793Z"
    }
   },
   "cell_type": "code",
   "source": [
    "import matplotlib.pyplot as plt\n",
    "\n",
    "plt.style.use(\"/Users/macbook/Desktop/Advanced Algorithms/DeepLearningStyle.mplstyle\")\n",
    "import os\n",
    "os.getcwd()  # This will print the current working directory\n",
    "os.chdir(\"/Users/macbook/Desktop/Advanced Algorithms\")  # Change to the directory where your files are located\n"
   ],
   "id": "3c807c4c041e4de2",
   "outputs": [],
   "execution_count": 15
  },
  {
   "metadata": {
    "ExecuteTime": {
     "end_time": "2024-06-13T11:15:00.291669Z",
     "start_time": "2024-06-13T11:15:00.287719Z"
    }
   },
   "cell_type": "code",
   "source": [
    "import numpy as np\n",
    "import tensorflow as tf\n",
    "from tensorflow.keras.models import Sequential\n",
    "from tensorflow.keras.layers import Dense\n",
    "from lab_utils_common import dlc\n",
    "from lab_coffee_utils import load_coffee_data, plt_roast, plt_prob, plt_layer, plt_network, plt_output_unit\n",
    "import logging\n",
    "logging.getLogger(\"tensorflow\").setLevel(logging.ERROR)\n",
    "tf.autograph.set_verbosity(0)\n",
    "\n"
   ],
   "id": "439a20a46bfe6ca3",
   "outputs": [],
   "execution_count": 16
  },
  {
   "metadata": {},
   "cell_type": "markdown",
   "source": "## Data Set",
   "id": "48cf90911db0a1e3"
  },
  {
   "metadata": {},
   "cell_type": "code",
   "outputs": [],
   "execution_count": null,
   "source": "",
   "id": "56e148735803a217"
  }
 ],
 "metadata": {
  "kernelspec": {
   "display_name": "Python 3",
   "language": "python",
   "name": "python3"
  },
  "language_info": {
   "codemirror_mode": {
    "name": "ipython",
    "version": 2
   },
   "file_extension": ".py",
   "mimetype": "text/x-python",
   "name": "python",
   "nbconvert_exporter": "python",
   "pygments_lexer": "ipython2",
   "version": "2.7.6"
  }
 },
 "nbformat": 4,
 "nbformat_minor": 5
}
