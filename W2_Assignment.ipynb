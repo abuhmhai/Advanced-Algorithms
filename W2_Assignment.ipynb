{
 "cells": [
  {
   "metadata": {},
   "cell_type": "markdown",
   "source": [
    "# Practice Lab: Neural Networks for Handwritten Digit Recognition, Multiclass \n",
    "\n",
    "In this exercise, you will use a neural network to recognize the hand-written digits 0-9.\n",
    "\n",
    "\n",
    "# Outline\n",
    "- [ 1 - Packages ](#1)\n",
    "    - [ 2 - ReLU Activation](#2)\n",
    "        - [ 3 - Softmax Function](#3)\n",
    "            - [ Exercise 1](#ex01)\n",
    "                - [ 4 - Neural Networks](#4)\n",
    "                    - [ 4.1 Problem Statement](#4.1)\n",
    "                        - [ 4.2 Dataset](#4.2)\n",
    "                            - [ 4.3 Model representation](#4.3)\n",
    "                                - [ 4.4 Tensorflow Model Implementation](#4.4)\n",
    "                                    - [ 4.5 Softmax placement](#4.5)\n",
    "                                        - [ Exercise 2](#ex02)\n"
   ],
   "id": "2323559fe2bbf2d"
  },
  {
   "metadata": {},
   "cell_type": "markdown",
   "source": [
    "<a name=\"1\"></a>\n",
    "## 1 - Packages \n",
    "\n",
    "First, let's run the cell below to import all the packages that you will need during this assignment.\n",
    "- [numpy](https://numpy.org/) is the fundamental package for scientific computing with Python.\n",
    "- [matplotlib](http://matplotlib.org) is a popular library to plot graphs in Python.\n",
    "- [tensorflow](https://www.tensorflow.org/) a popular platform for machine learning."
   ],
   "id": "b63f04d026c63a"
  },
  {
   "metadata": {
    "ExecuteTime": {
     "end_time": "2024-07-02T20:21:23.727165Z",
     "start_time": "2024-07-02T20:21:18.834615Z"
    }
   },
   "cell_type": "code",
   "source": [
    "import numpy as np\n",
    "import tensorflow as tf\n",
    "from tensorflow.keras.models import Sequential\n",
    "from tensorflow.keras.layers import Dense\n",
    "from tensorflow.keras.activations import linear, relu, sigmoid\n",
    "%matplotlib widget\n",
    "import matplotlib.pyplot as plt\n",
    "plt.style.use('./deeplearningstyle.mplstyle')\n",
    "\n",
    "import logging\n",
    "logging.getLogger(\"tensorflow\").setLevel(logging.ERROR)\n",
    "tf.autograph.set_verbosity(0)\n",
    "\n",
    "from public_tests import *\n",
    "\n",
    "from autils import *\n",
    "from lab_utils_softmax import plt_softmax\n",
    "np.set_printoptions(precision=2)"
   ],
   "id": "3ddff20072b25cbe",
   "outputs": [
    {
     "name": "stderr",
     "output_type": "stream",
     "text": [
      "/Library/Python/3.9/site-packages/urllib3/__init__.py:35: NotOpenSSLWarning: urllib3 v2 only supports OpenSSL 1.1.1+, currently the 'ssl' module is compiled with 'LibreSSL 2.8.3'. See: https://github.com/urllib3/urllib3/issues/3020\n",
      "  warnings.warn(\n"
     ]
    }
   ],
   "execution_count": 2
  },
  {
   "metadata": {},
   "cell_type": "markdown",
   "source": [
    "<a name=\"2\"></a>\n",
    "## 2 - ReLU Activation\n",
    "This week, a new activation was introduced, the Rectified Linear Unit (ReLU).\n",
    "$$ a = max(0,z) \\quad\\quad\\text {# ReLU function} $$"
   ],
   "id": "40300ce1f9bcdb07"
  },
  {
   "metadata": {
    "ExecuteTime": {
     "end_time": "2024-07-02T20:21:23.729951Z",
     "start_time": "2024-07-02T20:21:23.728233Z"
    }
   },
   "cell_type": "code",
   "source": "##plt_act_trio()",
   "id": "6a5207afb453c282",
   "outputs": [],
   "execution_count": 3
  },
  {
   "metadata": {},
   "cell_type": "markdown",
   "source": [
    "<img align=\"right\" src=\"./images/C2_W2_ReLu.png\"     style=\" width:380px; padding: 10px 20px; \" >\n",
    "The example from the lecture on the right shows an application of the ReLU. In this example, the derived \"awareness\" feature is not binary but has a continuous range of values. The sigmoid is best for on/off or binary situations. The ReLU provides a continuous linear relationship. Additionally it has an 'off' range where the output is zero.\n",
    "The \"off\" feature makes the ReLU a Non-Linear activation. Why is this needed? This enables multiple units to contribute to to the resulting function without interfering. This is examined more in the supporting optional lab. "
   ],
   "id": "1c217d4c7d6b3027"
  },
  {
   "metadata": {},
   "cell_type": "markdown",
   "source": [
    "<img align=\"right\" src=\"./images/C2_W2_ReLu.png\"     style=\" width:380px; padding: 10px 20px; \" >\n",
    "The example from the lecture on the right shows an application of the ReLU. In this example, the derived \"awareness\" feature is not binary but has a continuous range of values. The sigmoid is best for on/off or binary situations. The ReLU provides a continuous linear relationship. Additionally it has an 'off' range where the output is zero.     \n",
    "The \"off\" feature makes the ReLU a Non-Linear activation. Why is this needed? This enables multiple units to contribute to to the resulting function without interfering. This is examined more in the supporting optional lab. "
   ],
   "id": "386a91178cb009c1"
  },
  {
   "metadata": {},
   "cell_type": "markdown",
   "source": [
    "<a name=\"3\"></a>\n",
    "## 3 - Softmax Function\n",
    "A multiclass neural network generates N outputs. One output is selected as the predicted answer. In the output layer, a vector $\\mathbf{z}$ is generated by a linear function which is fed into a softmax function. The softmax function converts $\\mathbf{z}$  into a probability distribution as described below. After applying softmax, each output will be between 0 and 1 and the outputs will sum to 1. They can be interpreted as probabilities. The larger inputs to the softmax will correspond to larger output probabilities.\n",
    "<center>  <img  src=\"./images/C2_W2_NNSoftmax.PNG\" width=\"600\" />  "
   ],
   "id": "1028ee873e4fec50"
  },
  {
   "metadata": {},
   "cell_type": "markdown",
   "source": [
    "The softmax function can be written:\n",
    "$$a_j = \\frac{e^{z_j}}{ \\sum_{k=0}^{N-1}{e^{z_k} }} \\tag{1}$$\n",
    "\n",
    "Where $z = \\mathbf{w} \\cdot \\mathbf{x} + b$ and N is the number of feature/categories in the output layer.  "
   ],
   "id": "513fd482debdf14e"
  },
  {
   "metadata": {},
   "cell_type": "markdown",
   "source": [
    "<a name=\"ex01\"></a>\n",
    "### Exercise 1\n",
    "Let's create a NumPy implementation:"
   ],
   "id": "b7f02451bb8e01c5"
  },
  {
   "metadata": {
    "ExecuteTime": {
     "end_time": "2024-07-02T20:21:23.733768Z",
     "start_time": "2024-07-02T20:21:23.731039Z"
    }
   },
   "cell_type": "code",
   "source": [
    "# UNQ_C1\n",
    "# GRADED CELL: my_softmax\n",
    "\n",
    "def my_softmax(z):\n",
    "    \"\"\" Softmax converts a vector of values to a probability distribution.\n",
    "    Args:\n",
    "      z (ndarray (N,))  : input data, N features\n",
    "    Returns:\n",
    "      a (ndarray (N,))  : softmax of z\n",
    "    \"\"\"\n",
    "\n",
    "    ez = np.exp(z)\n",
    "    a = ez/np.sum(ez)\n",
    "\n",
    "    return a"
   ],
   "id": "1fb69e94d51c2d93",
   "outputs": [],
   "execution_count": 4
  },
  {
   "metadata": {
    "ExecuteTime": {
     "end_time": "2024-07-02T20:21:23.769911Z",
     "start_time": "2024-07-02T20:21:23.735420Z"
    }
   },
   "cell_type": "code",
   "source": [
    "z = np.array([1., 2., 3., 4.])\n",
    "a = my_softmax(z)\n",
    "atf = tf.nn.softmax(z)\n",
    "print(f\"my_softmax(z):         {a}\")\n",
    "print(f\"tensorflow softmax(z): {atf}\")\n"
   ],
   "id": "fc28ace4f92f703e",
   "outputs": [
    {
     "name": "stdout",
     "output_type": "stream",
     "text": [
      "my_softmax(z):         [0.03 0.09 0.24 0.64]\n",
      "tensorflow softmax(z): [0.03 0.09 0.24 0.64]\n"
     ]
    }
   ],
   "execution_count": 5
  },
  {
   "metadata": {},
   "cell_type": "markdown",
   "source": "### Below vary the values of the z inputs",
   "id": "c6ff9a6cea6e4427"
  },
  {
   "metadata": {
    "ExecuteTime": {
     "end_time": "2024-07-02T20:21:23.985522Z",
     "start_time": "2024-07-02T20:21:23.771304Z"
    }
   },
   "cell_type": "code",
   "source": [
    "plt.close('all')\n",
    "plt_softmax(my_softmax)"
   ],
   "id": "6a45e53ebb4ed639",
   "outputs": [
    {
     "data": {
      "text/plain": [
       "Canvas(toolbar=Toolbar(toolitems=[('Home', 'Reset original view', 'home', 'home'), ('Back', 'Back to previous …"
      ],
      "image/png": "[encoded data removed]",
      "text/html": [
       "\n",
       "            <div style=\"display: inline-block;\">\n",
       "                <div class=\"jupyter-widgets widget-label\" style=\"text-align: center;\">\n",
       "                    Figure\n",
       "                </div>\n",
       "                <img src='data:image/png;base64,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' width=800.0/>\n",
       "            </div>\n",
       "        "
      ],
      "application/vnd.jupyter.widget-view+json": {
       "version_major": 2,
       "version_minor": 0,
       "model_id": "0086387018cc4c7397d137ce58e66de8"
      }
     },
     "metadata": {},
     "output_type": "display_data"
    }
   ],
   "execution_count": 6
  },
  {
   "metadata": {},
   "cell_type": "markdown",
   "source": "## 4.Neural Networks",
   "id": "e4630bf8584e14f2"
  },
  {
   "metadata": {
    "ExecuteTime": {
     "end_time": "2024-07-02T20:22:32.823082Z",
     "start_time": "2024-07-02T20:22:32.808075Z"
    }
   },
   "cell_type": "code",
   "source": [
    "#Load dataset\n",
    "X,y=load_data()"
   ],
   "id": "786031cf79d6dcd2",
   "outputs": [],
   "execution_count": 7
  },
  {
   "metadata": {
    "ExecuteTime": {
     "end_time": "2024-07-02T20:22:54.375853Z",
     "start_time": "2024-07-02T20:22:54.366080Z"
    }
   },
   "cell_type": "code",
   "source": "print('The first element of X is: ',X[0])",
   "id": "970c8174bee5e5ab",
   "outputs": [
    {
     "name": "stdout",
     "output_type": "stream",
     "text": [
      "The first element of X is:  [ 0.00e+00  0.00e+00  0.00e+00  0.00e+00  0.00e+00  0.00e+00  0.00e+00\n",
      "  0.00e+00  0.00e+00  0.00e+00  0.00e+00  0.00e+00  0.00e+00  0.00e+00\n",
      "  0.00e+00  0.00e+00  0.00e+00  0.00e+00  0.00e+00  0.00e+00  0.00e+00\n",
      "  0.00e+00  0.00e+00  0.00e+00  0.00e+00  0.00e+00  0.00e+00  0.00e+00\n",
      "  0.00e+00  0.00e+00  0.00e+00  0.00e+00  0.00e+00  0.00e+00  0.00e+00\n",
      "  0.00e+00  0.00e+00  0.00e+00  0.00e+00  0.00e+00  0.00e+00  0.00e+00\n",
      "  0.00e+00  0.00e+00  0.00e+00  0.00e+00  0.00e+00  0.00e+00  0.00e+00\n",
      "  0.00e+00  0.00e+00  0.00e+00  0.00e+00  0.00e+00  0.00e+00  0.00e+00\n",
      "  0.00e+00  0.00e+00  0.00e+00  0.00e+00  0.00e+00  0.00e+00  0.00e+00\n",
      "  0.00e+00  0.00e+00  0.00e+00  0.00e+00  8.56e-06  1.94e-06 -7.37e-04\n",
      " -8.13e-03 -1.86e-02 -1.87e-02 -1.88e-02 -1.91e-02 -1.64e-02 -3.78e-03\n",
      "  3.30e-04  1.28e-05  0.00e+00  0.00e+00  0.00e+00  0.00e+00  0.00e+00\n",
      "  0.00e+00  0.00e+00  1.16e-04  1.20e-04 -1.40e-02 -2.85e-02  8.04e-02\n",
      "  2.67e-01  2.74e-01  2.79e-01  2.74e-01  2.25e-01  2.78e-02 -7.06e-03\n",
      "  2.35e-04  0.00e+00  0.00e+00  0.00e+00  0.00e+00  0.00e+00  0.00e+00\n",
      "  1.28e-17 -3.26e-04 -1.39e-02  8.16e-02  3.83e-01  8.58e-01  1.00e+00\n",
      "  9.70e-01  9.31e-01  1.00e+00  9.64e-01  4.49e-01 -5.60e-03 -3.78e-03\n",
      "  0.00e+00  0.00e+00  0.00e+00  0.00e+00  5.11e-06  4.36e-04 -3.96e-03\n",
      " -2.69e-02  1.01e-01  6.42e-01  1.03e+00  8.51e-01  5.43e-01  3.43e-01\n",
      "  2.69e-01  6.68e-01  1.01e+00  9.04e-01  1.04e-01 -1.66e-02  0.00e+00\n",
      "  0.00e+00  0.00e+00  0.00e+00  2.60e-05 -3.11e-03  7.52e-03  1.78e-01\n",
      "  7.93e-01  9.66e-01  4.63e-01  6.92e-02 -3.64e-03 -4.12e-02 -5.02e-02\n",
      "  1.56e-01  9.02e-01  1.05e+00  1.51e-01 -2.16e-02  0.00e+00  0.00e+00\n",
      "  0.00e+00  5.87e-05 -6.41e-04 -3.23e-02  2.78e-01  9.37e-01  1.04e+00\n",
      "  5.98e-01 -3.59e-03 -2.17e-02 -4.81e-03  6.17e-05 -1.24e-02  1.55e-01\n",
      "  9.15e-01  9.20e-01  1.09e-01 -1.71e-02  0.00e+00  0.00e+00  1.56e-04\n",
      " -4.28e-04 -2.51e-02  1.31e-01  7.82e-01  1.03e+00  7.57e-01  2.85e-01\n",
      "  4.87e-03 -3.19e-03  0.00e+00  8.36e-04 -3.71e-02  4.53e-01  1.03e+00\n",
      "  5.39e-01 -2.44e-03 -4.80e-03  0.00e+00  0.00e+00 -7.04e-04 -1.27e-02\n",
      "  1.62e-01  7.80e-01  1.04e+00  8.04e-01  1.61e-01 -1.38e-02  2.15e-03\n",
      " -2.13e-04  2.04e-04 -6.86e-03  4.32e-04  7.21e-01  8.48e-01  1.51e-01\n",
      " -2.28e-02  1.99e-04  0.00e+00  0.00e+00 -9.40e-03  3.75e-02  6.94e-01\n",
      "  1.03e+00  1.02e+00  8.80e-01  3.92e-01 -1.74e-02 -1.20e-04  5.55e-05\n",
      " -2.24e-03 -2.76e-02  3.69e-01  9.36e-01  4.59e-01 -4.25e-02  1.17e-03\n",
      "  1.89e-05  0.00e+00  0.00e+00 -1.94e-02  1.30e-01  9.80e-01  9.42e-01\n",
      "  7.75e-01  8.74e-01  2.13e-01 -1.72e-02  0.00e+00  1.10e-03 -2.62e-02\n",
      "  1.23e-01  8.31e-01  7.27e-01  5.24e-02 -6.19e-03  0.00e+00  0.00e+00\n",
      "  0.00e+00  0.00e+00 -9.37e-03  3.68e-02  6.99e-01  1.00e+00  6.06e-01\n",
      "  3.27e-01 -3.22e-02 -4.83e-02 -4.34e-02 -5.75e-02  9.56e-02  7.27e-01\n",
      "  6.95e-01  1.47e-01 -1.20e-02 -3.03e-04  0.00e+00  0.00e+00  0.00e+00\n",
      "  0.00e+00 -6.77e-04 -6.51e-03  1.17e-01  4.22e-01  9.93e-01  8.82e-01\n",
      "  7.46e-01  7.24e-01  7.23e-01  7.20e-01  8.45e-01  8.32e-01  6.89e-02\n",
      " -2.78e-02  3.59e-04  7.15e-05  0.00e+00  0.00e+00  0.00e+00  0.00e+00\n",
      "  1.53e-04  3.17e-04 -2.29e-02 -4.14e-03  3.87e-01  5.05e-01  7.75e-01\n",
      "  9.90e-01  1.01e+00  1.01e+00  7.38e-01  2.15e-01 -2.70e-02  1.33e-03\n",
      "  0.00e+00  0.00e+00  0.00e+00  0.00e+00  0.00e+00  0.00e+00  0.00e+00\n",
      "  0.00e+00  2.36e-04 -2.26e-03 -2.52e-02 -3.74e-02  6.62e-02  2.91e-01\n",
      "  3.23e-01  3.06e-01  8.76e-02 -2.51e-02  2.37e-04  0.00e+00  0.00e+00\n",
      "  0.00e+00  0.00e+00  0.00e+00  0.00e+00  0.00e+00  0.00e+00  0.00e+00\n",
      "  0.00e+00  0.00e+00  6.21e-18  6.73e-04 -1.13e-02 -3.55e-02 -3.88e-02\n",
      " -3.71e-02 -1.34e-02  9.91e-04  4.89e-05  0.00e+00  0.00e+00  0.00e+00\n",
      "  0.00e+00  0.00e+00  0.00e+00  0.00e+00  0.00e+00  0.00e+00  0.00e+00\n",
      "  0.00e+00  0.00e+00  0.00e+00  0.00e+00  0.00e+00  0.00e+00  0.00e+00\n",
      "  0.00e+00  0.00e+00  0.00e+00  0.00e+00  0.00e+00  0.00e+00  0.00e+00\n",
      "  0.00e+00  0.00e+00  0.00e+00  0.00e+00  0.00e+00  0.00e+00  0.00e+00\n",
      "  0.00e+00  0.00e+00  0.00e+00  0.00e+00  0.00e+00  0.00e+00  0.00e+00\n",
      "  0.00e+00  0.00e+00  0.00e+00  0.00e+00  0.00e+00  0.00e+00  0.00e+00\n",
      "  0.00e+00]\n"
     ]
    }
   ],
   "execution_count": 8
  },
  {
   "metadata": {},
   "cell_type": "code",
   "outputs": [],
   "execution_count": null,
   "source": "",
   "id": "acd774d81e9c14e3"
  }
 ],
 "metadata": {
  "kernelspec": {
   "display_name": "Python 3",
   "language": "python",
   "name": "python3"
  },
  "language_info": {
   "codemirror_mode": {
    "name": "ipython",
    "version": 2
   },
   "file_extension": ".py",
   "mimetype": "text/x-python",
   "name": "python",
   "nbconvert_exporter": "python",
   "pygments_lexer": "ipython2",
   "version": "2.7.6"
  }
 },
 "nbformat": 4,
 "nbformat_minor": 5
}
