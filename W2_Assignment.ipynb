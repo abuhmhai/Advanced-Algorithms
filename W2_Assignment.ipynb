{
 "cells": [
  {
   "metadata": {},
   "cell_type": "markdown",
   "source": [
    "# Practice Lab: Neural Networks for Handwritten Digit Recognition, Multiclass \n",
    "\n",
    "In this exercise, you will use a neural network to recognize the hand-written digits 0-9.\n",
    "\n",
    "\n",
    "# Outline\n",
    "- [ 1 - Packages ](#1)\n",
    "    - [ 2 - ReLU Activation](#2)\n",
    "        - [ 3 - Softmax Function](#3)\n",
    "            - [ Exercise 1](#ex01)\n",
    "                - [ 4 - Neural Networks](#4)\n",
    "                    - [ 4.1 Problem Statement](#4.1)\n",
    "                        - [ 4.2 Dataset](#4.2)\n",
    "                            - [ 4.3 Model representation](#4.3)\n",
    "                                - [ 4.4 Tensorflow Model Implementation](#4.4)\n",
    "                                    - [ 4.5 Softmax placement](#4.5)\n",
    "                                        - [ Exercise 2](#ex02)\n"
   ],
   "id": "2323559fe2bbf2d"
  },
  {
   "metadata": {},
   "cell_type": "markdown",
   "source": [
    "<a name=\"1\"></a>\n",
    "## 1 - Packages \n",
    "\n",
    "First, let's run the cell below to import all the packages that you will need during this assignment.\n",
    "- [numpy](https://numpy.org/) is the fundamental package for scientific computing with Python.\n",
    "- [matplotlib](http://matplotlib.org) is a popular library to plot graphs in Python.\n",
    "- [tensorflow](https://www.tensorflow.org/) a popular platform for machine learning."
   ],
   "id": "b63f04d026c63a"
  },
  {
   "metadata": {},
   "cell_type": "code",
   "outputs": [],
   "execution_count": null,
   "source": "",
   "id": "3ddff20072b25cbe"
  }
 ],
 "metadata": {
  "kernelspec": {
   "display_name": "Python 3",
   "language": "python",
   "name": "python3"
  },
  "language_info": {
   "codemirror_mode": {
    "name": "ipython",
    "version": 2
   },
   "file_extension": ".py",
   "mimetype": "text/x-python",
   "name": "python",
   "nbconvert_exporter": "python",
   "pygments_lexer": "ipython2",
   "version": "2.7.6"
  }
 },
 "nbformat": 4,
 "nbformat_minor": 5
}
