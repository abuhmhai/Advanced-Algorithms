{
 "cells": [
  {
   "metadata": {},
   "cell_type": "markdown",
   "source": "## Multi-class Classification\n",
   "id": "c0f221ad7fc4a6a7"
  },
  {
   "metadata": {},
   "cell_type": "markdown",
   "source": [
    "## 1.1 Goals\n",
    "In this lab, you will explore an example of multi-class classification using neural networks.\n",
    "<figure>\n",
    "<img src=\"./images/C2_W2_mclass_header.png\"   style=\"width500px;height:200px;\">\n",
    "</figure>\n"
   ],
   "id": "a7d15f41842596a4"
  },
  {
   "metadata": {},
   "cell_type": "markdown",
   "source": [
    "## 1.2 Tools\n",
    "You will use some plotting routines. These are stored in `lab_utils_multiclass_TF.py` in this directory."
   ],
   "id": "7754b06dbd66c8a8"
  },
  {
   "metadata": {
    "ExecuteTime": {
     "end_time": "2024-06-30T17:49:49.959961Z",
     "start_time": "2024-06-30T17:49:49.941580Z"
    }
   },
   "cell_type": "code",
   "source": [
    "import numpy as np\n",
    "import matplotlib.pyplot as plt\n",
    "%matplotlib widget\n",
    "from sklearn.datasets import make_blobs\n",
    "import tensorflow as tf\n",
    "from tensorflow.keras.models import Sequential\n",
    "from tensorflow.keras.layers import Dense\n",
    "np.set_printoptions(precision=2)\n",
    "from lab_utils_multiclass_TF import *\n",
    "import logging\n",
    "logging.getLogger(\"tensorflow\").setLevel(logging.ERROR)\n",
    "tf.autograph.set_verbosity(0)"
   ],
   "id": "f5d34dc6432b7315",
   "outputs": [],
   "execution_count": 3
  },
  {
   "metadata": {},
   "cell_type": "code",
   "outputs": [],
   "execution_count": null,
   "source": "",
   "id": "987b516b4f90eeaa"
  }
 ],
 "metadata": {
  "kernelspec": {
   "display_name": "Python 3",
   "language": "python",
   "name": "python3"
  },
  "language_info": {
   "codemirror_mode": {
    "name": "ipython",
    "version": 2
   },
   "file_extension": ".py",
   "mimetype": "text/x-python",
   "name": "python",
   "nbconvert_exporter": "python",
   "pygments_lexer": "ipython2",
   "version": "2.7.6"
  }
 },
 "nbformat": 4,
 "nbformat_minor": 5
}
